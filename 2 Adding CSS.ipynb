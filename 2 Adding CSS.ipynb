{
 "cells": [
  {
   "cell_type": "markdown",
   "metadata": {},
   "source": [
    "# Adding CSS to our document\n",
    "\n",
    "The very first thing we need to do is to tell the HTML document that we have some CSS rules we want it to use. \n",
    "\n",
    "There are three different ways to apply CSS to an HTML document that you'll commonly come across, however, for now, we will look at the most usual and useful way of doing so — linking CSS from the head of your document.\n",
    "\n",
    "#### External CSS\n",
    "\n",
    "Create a file in the same folder as your HTML document and save it as styles.css. The .css extension shows that this is a CSS file.\n",
    "\n",
    "To link styles.css to index.html, add the following line somewhere inside the `<head>` of the HTML document:\n",
    "\n",
    "`<link rel=\"stylesheet\" href=\"styles.css\" />`\n",
    "\n",
    "#### Internal CSS\n",
    "\n",
    "To use css in index.html, add the style tag somewhere inside the `<head>` of the HTML document:\n",
    "\n",
    "```\n",
    "<style>\n",
    "h1{\n",
    "    color: red;\n",
    "}\n",
    "</style>\n",
    "```\n",
    "#### Internal CSS\n",
    "\n",
    "\n",
    "`<h1 style=\"color:red;\">Hello</h1>`\n",
    "\n",
    "<h1 style=\"color:red;\">Hello</h1>\n",
    "\n",
    "<!-- Boostrap Markdown File -->\n",
    "<link href=\"https://maxcdn.bootstrapcdn.com/bootstrap/3.3.6/css/bootstrap.min.css\" rel=\"stylesheet\" />\n",
    "<script src=\"https://maxcdn.bootstrapcdn.com/bootstrap/3.3.6/js/bootstrap.min.js\"></script>\n"
   ]
  }
 ],
 "metadata": {
  "language_info": {
   "name": "python"
  }
 },
 "nbformat": 4,
 "nbformat_minor": 2
}
